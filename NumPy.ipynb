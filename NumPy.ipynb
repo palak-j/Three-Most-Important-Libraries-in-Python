{
 "cells": [
  {
   "cell_type": "markdown",
   "metadata": {},
   "source": [
    "1. NumPy stands for Numerical Python.\n",
    "2. This library used for working with arrays, linear algebra, fourier transform and matrices.\n",
    "3. Created by Travis Oliphant in 2005.\n",
    "4. Works 50 times faster than traditional lists in python as Python list is \"array of pointers\" and Numpy Array is array of homogenously packed data type.\n",
    "5. Written mostly in C.\n",
    "6. source code - https://github.com/numpy/numpy\n"
   ]
  },
  {
   "cell_type": "markdown",
   "metadata": {},
   "source": [
    "### Array"
   ]
  },
  {
   "cell_type": "code",
   "execution_count": 3,
   "metadata": {},
   "outputs": [
    {
     "name": "stdout",
     "output_type": "stream",
     "text": [
      "[1 2 3 4 5]\n"
     ]
    }
   ],
   "source": [
    "import numpy \n",
    "\n",
    "arr = numpy.array([1, 2, 3, 4, 5])           # or arr = np.array([1, 2, 3, 4, 5]) \n",
    "\n",
    "print(arr)"
   ]
  },
  {
   "cell_type": "code",
   "execution_count": 2,
   "metadata": {},
   "outputs": [],
   "source": [
    "import numpy as np"
   ]
  },
  {
   "cell_type": "code",
   "execution_count": 5,
   "metadata": {},
   "outputs": [
    {
     "name": "stdout",
     "output_type": "stream",
     "text": [
      "1.16.5\n"
     ]
    }
   ],
   "source": [
    "print(np.__version__)"
   ]
  },
  {
   "cell_type": "code",
   "execution_count": 6,
   "metadata": {},
   "outputs": [
    {
     "name": "stdout",
     "output_type": "stream",
     "text": [
      "<class 'numpy.ndarray'>\n"
     ]
    }
   ],
   "source": [
    "print(type(arr))"
   ]
  },
  {
   "cell_type": "code",
   "execution_count": 7,
   "metadata": {},
   "outputs": [],
   "source": [
    "arr = np.array(42)                          #0- D Array or scalar\n",
    "arr1 = np.array([1, 2, 3, 4, 5])            #1- D Array or uni dimensional (has 0-D array as element)\n",
    "arr2 = np.array([[1, 2, 3], [4, 5, 6]])     #2- D Array / Matrix / 2nd order tensor (has 1- D array as elements)\n",
    "arr3 = np.array([[[1, 2, 3], [4, 5, 6]], [[1, 2, 3], [4, 5, 6]]])          #3-D Array / 3rd order tensor (has 2D array as element)"
   ]
  },
  {
   "cell_type": "code",
   "execution_count": 8,
   "metadata": {},
   "outputs": [
    {
     "name": "stdout",
     "output_type": "stream",
     "text": [
      "3\n"
     ]
    }
   ],
   "source": [
    "print(arr3.ndim)"
   ]
  },
  {
   "cell_type": "code",
   "execution_count": 10,
   "metadata": {},
   "outputs": [
    {
     "name": "stdout",
     "output_type": "stream",
     "text": [
      "(2, 2, 3)\n"
     ]
    }
   ],
   "source": [
    "print(arr3.shape)                             #shape of array (here shape is array consists of 2 arrays with 2 array as elements and then 3 elements in each array)     "
   ]
  },
  {
   "cell_type": "code",
   "execution_count": 11,
   "metadata": {},
   "outputs": [
    {
     "name": "stdout",
     "output_type": "stream",
     "text": [
      "[[[[[1 2 3 4]]]]]\n",
      "shape of array : (1, 1, 1, 1, 4)\n"
     ]
    }
   ],
   "source": [
    "arr = np.array([1, 2, 3, 4], ndmin=5)       #creating n-dimensional array (here, keeping n=5)\n",
    "print(arr)\n",
    "print('shape of array :', arr.shape)"
   ]
  },
  {
   "cell_type": "code",
   "execution_count": 12,
   "metadata": {},
   "outputs": [
    {
     "name": "stdout",
     "output_type": "stream",
     "text": [
      "1\n"
     ]
    }
   ],
   "source": [
    "print(arr1[0])                               #Accessing 1-D array"
   ]
  },
  {
   "cell_type": "code",
   "execution_count": 13,
   "metadata": {},
   "outputs": [
    {
     "name": "stdout",
     "output_type": "stream",
     "text": [
      "7\n"
     ]
    }
   ],
   "source": [
    "print(arr1[2] + arr1[3])                    #Scalar Arithmetics in 1-D"
   ]
  },
  {
   "cell_type": "code",
   "execution_count": 14,
   "metadata": {},
   "outputs": [
    {
     "name": "stdout",
     "output_type": "stream",
     "text": [
      "2nd element on 1st dim:  2\n"
     ]
    }
   ],
   "source": [
    "print('2nd element on 1st dim: ', arr2[0, 1])       #Accessing 2-D array"
   ]
  },
  {
   "cell_type": "code",
   "execution_count": 15,
   "metadata": {},
   "outputs": [
    {
     "name": "stdout",
     "output_type": "stream",
     "text": [
      "6\n"
     ]
    }
   ],
   "source": [
    "print(arr3[0, 1, 2])                  #Accessing 3-D array"
   ]
  },
  {
   "cell_type": "code",
   "execution_count": 16,
   "metadata": {},
   "outputs": [
    {
     "name": "stdout",
     "output_type": "stream",
     "text": [
      "Last element from 2nd dim:  6\n"
     ]
    }
   ],
   "source": [
    "print('Last element from 2nd dim: ', arr2[1, -1])        #-ve indexing to access elements from last"
   ]
  },
  {
   "cell_type": "code",
   "execution_count": 17,
   "metadata": {},
   "outputs": [
    {
     "name": "stdout",
     "output_type": "stream",
     "text": [
      "[2 3 4 5]\n"
     ]
    }
   ],
   "source": [
    "arr = np.array([1, 2, 3, 4, 5, 6, 7])                      #INDEX SLICING \n",
    "print(arr[1:5])                                            # includes from 1st element to 4th index element    "
   ]
  },
  {
   "cell_type": "code",
   "execution_count": 18,
   "metadata": {},
   "outputs": [
    {
     "name": "stdout",
     "output_type": "stream",
     "text": [
      "[5 6 7]\n"
     ]
    }
   ],
   "source": [
    "print(arr[4:])                                           #includes 4th index element to last"
   ]
  },
  {
   "cell_type": "code",
   "execution_count": 19,
   "metadata": {},
   "outputs": [
    {
     "name": "stdout",
     "output_type": "stream",
     "text": [
      "[1 2 3 4]\n"
     ]
    }
   ],
   "source": [
    "print(arr[:4])                                          #includes elements from beginning to 3rd index element"
   ]
  },
  {
   "cell_type": "code",
   "execution_count": 20,
   "metadata": {},
   "outputs": [
    {
     "name": "stdout",
     "output_type": "stream",
     "text": [
      "[5 6]\n"
     ]
    }
   ],
   "source": [
    "print(arr[-3:-1])                                       #from the index 3 from the end to index 1 from the end"
   ]
  },
  {
   "cell_type": "code",
   "execution_count": 21,
   "metadata": {},
   "outputs": [
    {
     "name": "stdout",
     "output_type": "stream",
     "text": [
      "[2 4]\n"
     ]
    }
   ],
   "source": [
    "print(arr[1:5:2])                                      #We can determine steps also for slicing"
   ]
  },
  {
   "cell_type": "code",
   "execution_count": 22,
   "metadata": {},
   "outputs": [
    {
     "name": "stdout",
     "output_type": "stream",
     "text": [
      "[1 3 5 7]\n"
     ]
    }
   ],
   "source": [
    "print(arr[::2])                                         #Returns every alternate element in array"
   ]
  },
  {
   "cell_type": "code",
   "execution_count": 23,
   "metadata": {},
   "outputs": [
    {
     "name": "stdout",
     "output_type": "stream",
     "text": [
      "[5 6]\n",
      "[3 6]\n",
      "[[2 3]\n",
      " [5 6]]\n"
     ]
    }
   ],
   "source": [
    "print(arr2[1, 1:4])                                      #Slicing in 2-D\n",
    "print(arr2[0:2, 2])\n",
    "print(arr2[0:2, 1:4])"
   ]
  },
  {
   "cell_type": "markdown",
   "metadata": {},
   "source": [
    "Datatypes in array: \n",
    "i - integer\n",
    "b - boolean\n",
    "u - unsigned integer\n",
    "f - float\n",
    "c - complex float\n",
    "m - timedelta\n",
    "M - datetime\n",
    "O - object\n",
    "S - string\n",
    "U - unicode string\n",
    "V - fixed chunk of memory for other type ( void )\n"
   ]
  },
  {
   "cell_type": "code",
   "execution_count": 24,
   "metadata": {},
   "outputs": [
    {
     "name": "stdout",
     "output_type": "stream",
     "text": [
      "[b'1' b'2' b'3' b'4']\n",
      "|S1\n"
     ]
    }
   ],
   "source": [
    "arr = np.array([1, 2, 3, 4], dtype='S')               #We can create array with defined datatype\n",
    "\n",
    "print(arr)\n",
    "print(arr.dtype)"
   ]
  },
  {
   "cell_type": "code",
   "execution_count": 25,
   "metadata": {},
   "outputs": [
    {
     "name": "stdout",
     "output_type": "stream",
     "text": [
      "[1 2 3 4]\n",
      "int32\n"
     ]
    }
   ],
   "source": [
    "arr = np.array([1, 2, 3, 4], dtype='i4')               # For i, u, f, S and U we can define size as well.\n",
    "\n",
    "print(arr)\n",
    "print(arr.dtype)"
   ]
  },
  {
   "cell_type": "code",
   "execution_count": 26,
   "metadata": {},
   "outputs": [
    {
     "name": "stdout",
     "output_type": "stream",
     "text": [
      "[1 2 3]\n",
      "int32\n"
     ]
    }
   ],
   "source": [
    "arr = np.array([1.1, 2.1, 3.1])                          #Changing datatype of elements in array\n",
    "\n",
    "newarr = arr.astype('i')                                # or    newarr = arr.astype('int') \n",
    "\n",
    "print(newarr)\n",
    "print(newarr.dtype)"
   ]
  },
  {
   "cell_type": "code",
   "execution_count": 27,
   "metadata": {},
   "outputs": [
    {
     "name": "stdout",
     "output_type": "stream",
     "text": [
      "[ True False  True]\n",
      "bool\n"
     ]
    }
   ],
   "source": [
    "arr = np.array([1, 0, 3])                                # Changing integer to boolean\n",
    "\n",
    "newarr = arr.astype(bool)\n",
    "\n",
    "print(newarr)\n",
    "print(newarr.dtype)"
   ]
  },
  {
   "cell_type": "markdown",
   "metadata": {},
   "source": [
    "NUMPY ARRAY COPY AND VIEW\n",
    "1. Copy Owns the data and it is different to original. Changes are not interactive in original and copy.\n",
    "2. View does not owns the data. It is the view of original array only. So any changes made in view wll be reflected to original array.\n"
   ]
  },
  {
   "cell_type": "code",
   "execution_count": 28,
   "metadata": {},
   "outputs": [
    {
     "name": "stdout",
     "output_type": "stream",
     "text": [
      "[42  2  3  4  5]\n",
      "[1 2 3 4 5]\n",
      "[42  2  3  4  5]\n"
     ]
    }
   ],
   "source": [
    "arr = np.array([1, 2, 3, 4, 5])                             #Creating copy and view\n",
    "x = arr.copy()                                              # No changes in copy when array element changed\n",
    "y = arr.view()                                              #View changed\n",
    "arr[0] = 42\n",
    "\n",
    "print(arr) \n",
    "print(x)\n",
    "print(y)"
   ]
  },
  {
   "cell_type": "code",
   "execution_count": 30,
   "metadata": {},
   "outputs": [
    {
     "name": "stdout",
     "output_type": "stream",
     "text": [
      "None\n",
      "[42  2  3  4  5]\n"
     ]
    }
   ],
   "source": [
    "print(x.base)                                             #Check if array owns it's data\n",
    "print(y.base)                                             # returns None if the array owns the data. So Copy owns and view doesn't."
   ]
  },
  {
   "cell_type": "code",
   "execution_count": 31,
   "metadata": {},
   "outputs": [
    {
     "name": "stdout",
     "output_type": "stream",
     "text": [
      "[[ 1  2  3]\n",
      " [ 4  5  6]\n",
      " [ 7  8  9]\n",
      " [10 11 12]]\n"
     ]
    }
   ],
   "source": [
    "arr = np.array([1, 2, 3, 4, 5, 6, 7, 8, 9, 10, 11, 12])\n",
    "\n",
    "newarr = arr.reshape(4, 3)                              #reshape of array, this is 1-D to 2-D\n",
    "\n",
    "print(newarr)\n"
   ]
  },
  {
   "cell_type": "code",
   "execution_count": 32,
   "metadata": {},
   "outputs": [
    {
     "name": "stdout",
     "output_type": "stream",
     "text": [
      "[[[ 1  2]\n",
      "  [ 3  4]\n",
      "  [ 5  6]]\n",
      "\n",
      " [[ 7  8]\n",
      "  [ 9 10]\n",
      "  [11 12]]]\n"
     ]
    }
   ],
   "source": [
    "arr = np.array([1, 2, 3, 4, 5, 6, 7, 8, 9, 10, 11, 12])\n",
    "\n",
    "newarr = arr.reshape(2, 3, 2)                           #1-D to 3-D reshape.\n",
    "                                                        #if elements can't be divided completely in new shape, it will throw error.\n",
    "print(newarr)"
   ]
  },
  {
   "cell_type": "code",
   "execution_count": 33,
   "metadata": {},
   "outputs": [
    {
     "name": "stdout",
     "output_type": "stream",
     "text": [
      "[[[1 2]\n",
      "  [3 4]]\n",
      "\n",
      " [[5 6]\n",
      "  [7 8]]]\n"
     ]
    }
   ],
   "source": [
    "arr = np.array([1, 2, 3, 4, 5, 6, 7, 8])               \n",
    "\n",
    "newarr = arr.reshape(2, 2, -1)                     #Pass -1 as the value, and NumPy will calculate this number for you.                   \n",
    "\n",
    "print(newarr)"
   ]
  },
  {
   "cell_type": "code",
   "execution_count": 34,
   "metadata": {},
   "outputs": [
    {
     "name": "stdout",
     "output_type": "stream",
     "text": [
      "[1 2 3 4 5 6]\n"
     ]
    }
   ],
   "source": [
    "arr = np.array([[1, 2, 3], [4, 5, 6]])\n",
    "\n",
    "newarr = arr.reshape(-1)                            #Flattening array/ convert multidimensional array into a 1D array.\n",
    "\n",
    "print(newarr)                                       #We can not pass -1 to more than one dimension."
   ]
  },
  {
   "cell_type": "markdown",
   "metadata": {},
   "source": [
    "1. In numpy , some other functions to reshape array: flatten, ravel\n",
    "2. In numpy, some functions for rearranging the elements: rot90, flip, fliplr, flipud"
   ]
  },
  {
   "cell_type": "code",
   "execution_count": 35,
   "metadata": {},
   "outputs": [
    {
     "name": "stdout",
     "output_type": "stream",
     "text": [
      "1\n",
      "2\n",
      "3\n",
      "4\n",
      "5\n",
      "6\n",
      "7\n",
      "8\n",
      "9\n",
      "10\n",
      "11\n",
      "12\n"
     ]
    }
   ],
   "source": [
    "arr = np.array([[[1, 2, 3], [4, 5, 6]], [[7, 8, 9], [10, 11, 12]]])\n",
    "\n",
    "for x in arr:                                     #iterating each element of 3-D array\n",
    "    for y in x:\n",
    "        for z in y:\n",
    "            print(z)"
   ]
  },
  {
   "cell_type": "code",
   "execution_count": 36,
   "metadata": {},
   "outputs": [
    {
     "name": "stdout",
     "output_type": "stream",
     "text": [
      "1\n",
      "2\n",
      "3\n",
      "4\n",
      "5\n",
      "6\n",
      "7\n",
      "8\n"
     ]
    }
   ],
   "source": [
    "arr = np.array([[[1, 2], [3, 4]], [[5, 6], [7, 8]]])                             # nditer function in numpy to iterate\n",
    "\n",
    "for x in np.nditer(arr):\n",
    "  print(x)"
   ]
  },
  {
   "cell_type": "markdown",
   "metadata": {},
   "source": [
    "1. We can use op_dtypes argument and pass it the expected datatype to change the datatype of elements while iterating.\n",
    "\n",
    "2. NumPy does not change the data type of the element in-place (where the element is in array) so it needs some other space to perform this action, that extra space is called buffer, and in order to enable it in nditer() we pass flags=['buffered']."
   ]
  },
  {
   "cell_type": "code",
   "execution_count": 37,
   "metadata": {},
   "outputs": [
    {
     "name": "stdout",
     "output_type": "stream",
     "text": [
      "b'1'\n",
      "b'2'\n",
      "b'3'\n"
     ]
    }
   ],
   "source": [
    "arr = np.array([1, 2, 3])                                     \n",
    "\n",
    "for x in np.nditer(arr, flags=['buffered'], op_dtypes=['S']):\n",
    "  print(x)"
   ]
  },
  {
   "cell_type": "code",
   "execution_count": 38,
   "metadata": {},
   "outputs": [
    {
     "name": "stdout",
     "output_type": "stream",
     "text": [
      "1\n",
      "3\n",
      "5\n",
      "7\n"
     ]
    }
   ],
   "source": [
    "arr = np.array([[1, 2, 3, 4], [5, 6, 7, 8]])                  #iterating with step size\n",
    "\n",
    "for x in np.nditer(arr[:, ::2]):\n",
    "  print(x)"
   ]
  },
  {
   "cell_type": "code",
   "execution_count": 41,
   "metadata": {},
   "outputs": [
    {
     "name": "stdout",
     "output_type": "stream",
     "text": [
      "(0,) 1\n",
      "(1,) 2\n",
      "(2,) 3\n"
     ]
    }
   ],
   "source": [
    "arr = np.array([1, 2, 3])\n",
    "\n",
    "for idx, x in np.ndenumerate(arr):                             #Enumerated Iteration Using ndenumerate()\n",
    "    print(idx, x)                                           \n",
    "#Enumeration means mentioning sequence number of somethings one by one.    "
   ]
  },
  {
   "cell_type": "code",
   "execution_count": 42,
   "metadata": {},
   "outputs": [
    {
     "name": "stdout",
     "output_type": "stream",
     "text": [
      "[1 2 3 4 5 6]\n"
     ]
    }
   ],
   "source": [
    "arr1 = np.array([1, 2, 3])\n",
    "\n",
    "arr2 = np.array([4, 5, 6])\n",
    "\n",
    "arr = np.concatenate((arr1, arr2))                             #Joining 1-D array\n",
    "\n",
    "print(arr)"
   ]
  },
  {
   "cell_type": "code",
   "execution_count": 44,
   "metadata": {},
   "outputs": [
    {
     "name": "stdout",
     "output_type": "stream",
     "text": [
      "[[1 2 5 6]\n",
      " [3 4 7 8]]\n",
      "[[[1 2]\n",
      "  [5 6]]\n",
      "\n",
      " [[3 4]\n",
      "  [7 8]]]\n",
      "[[1 2 5 6]\n",
      " [3 4 7 8]]\n",
      "[[1 2]\n",
      " [3 4]\n",
      " [5 6]\n",
      " [7 8]]\n",
      "[[[1 5]\n",
      "  [2 6]]\n",
      "\n",
      " [[3 7]\n",
      "  [4 8]]]\n"
     ]
    }
   ],
   "source": [
    "arr1 = np.array([[1, 2], [3, 4]])\n",
    "\n",
    "arr2 = np.array([[5, 6], [7, 8]])\n",
    "\n",
    "arr = np.concatenate((arr1, arr2), axis=1)                     #Join two 2-D arrays along rows (axis=1)   ,  If axis is not explicitly passed it is taken as 0.\n",
    "arr3 = np.stack((arr1, arr2), axis=1)                          #Stacking is same as concatenation, the only difference is that stacking is done along a new axis.\n",
    "                                                       #We can concatenate two 1-D arrays along the second axis which would result in putting them one over the other, ie. stacking.\n",
    "arr4 = np.hstack((arr1, arr2))                              # Using hstack() to stack along rows.\n",
    "arr5 = np.vstack((arr1, arr2))                              # Using vstack()  to stack along columns.\n",
    "arr6 = np.dstack((arr1, arr2))                              #Using dstack() to stack along height, which is the same as depth.\n",
    "print(arr)\n",
    "print(arr3)\n",
    "print(arr4)\n",
    "print(arr5)\n",
    "print(arr6)"
   ]
  },
  {
   "cell_type": "code",
   "execution_count": 45,
   "metadata": {},
   "outputs": [
    {
     "name": "stdout",
     "output_type": "stream",
     "text": [
      "[array([1, 2]), array([3, 4]), array([5, 6])]\n",
      "[array([1, 2]), array([3, 4]), array([5]), array([6])]\n"
     ]
    }
   ],
   "source": [
    "arr = np.array([1, 2, 3, 4, 5, 6])\n",
    "\n",
    "newarr = np.array_split(arr, 3)                                    #Spliting 1-D array in 3 parts\n",
    "newarr1 = np.array_split(arr, 4)                                   #If the array has less elements than required, it will adjust from the end accordingly.\n",
    "\n",
    "print(newarr)\n",
    "print(newarr1)"
   ]
  },
  {
   "cell_type": "markdown",
   "metadata": {},
   "source": [
    "1. We also have the method split() available but it will not adjust the elements when elements are less in source array for splitting like in example above, array_split() worked properly but split() would fail.\n",
    "2. The return value of the array_split() method is an array containing each of the split as an array."
   ]
  },
  {
   "cell_type": "code",
   "execution_count": 46,
   "metadata": {},
   "outputs": [
    {
     "name": "stdout",
     "output_type": "stream",
     "text": [
      "[array([[1, 2],\n",
      "       [3, 4]]), array([[5, 6],\n",
      "       [7, 8]]), array([[ 9, 10],\n",
      "       [11, 12]])]\n"
     ]
    }
   ],
   "source": [
    "arr = np.array([[1, 2], [3, 4], [5, 6], [7, 8], [9, 10], [11, 12]])\n",
    "\n",
    "newarr = np.array_split(arr, 3)                                   #Splitting 2-D array\n",
    "\n",
    "print(newarr)"
   ]
  },
  {
   "cell_type": "code",
   "execution_count": 48,
   "metadata": {},
   "outputs": [
    {
     "name": "stdout",
     "output_type": "stream",
     "text": [
      "[array([[1, 2, 3],\n",
      "       [4, 5, 6]]), array([[ 7,  8,  9],\n",
      "       [10, 11, 12]]), array([[13, 14, 15],\n",
      "       [16, 17, 18]])]\n",
      "[array([[ 1],\n",
      "       [ 4],\n",
      "       [ 7],\n",
      "       [10],\n",
      "       [13],\n",
      "       [16]]), array([[ 2],\n",
      "       [ 5],\n",
      "       [ 8],\n",
      "       [11],\n",
      "       [14],\n",
      "       [17]]), array([[ 3],\n",
      "       [ 6],\n",
      "       [ 9],\n",
      "       [12],\n",
      "       [15],\n",
      "       [18]])]\n",
      "[array([[ 1],\n",
      "       [ 4],\n",
      "       [ 7],\n",
      "       [10],\n",
      "       [13],\n",
      "       [16]]), array([[ 2],\n",
      "       [ 5],\n",
      "       [ 8],\n",
      "       [11],\n",
      "       [14],\n",
      "       [17]]), array([[ 3],\n",
      "       [ 6],\n",
      "       [ 9],\n",
      "       [12],\n",
      "       [15],\n",
      "       [18]])]\n"
     ]
    }
   ],
   "source": [
    "arr = np.array([[1, 2, 3], [4, 5, 6], [7, 8, 9], [10, 11, 12], [13, 14, 15], [16, 17, 18]])\n",
    "\n",
    "newarr = np.array_split(arr, 3)                                  #returns three 2-D arrays.\n",
    "newarr1 = np.array_split(arr, 3, axis=1)                         #Split the 2-D array into three 2-D arrays along rows.\n",
    "newarr2 = np.hsplit(arr, 3)                                       #It also Split 2-D array into three 2-D arrays along rows.  \n",
    "                                                                  #Similarly, we can use dsplit also.\n",
    "print(newarr)\n",
    "print(newarr1)\n",
    "print(newarr2)\n"
   ]
  },
  {
   "cell_type": "code",
   "execution_count": 49,
   "metadata": {},
   "outputs": [
    {
     "name": "stdout",
     "output_type": "stream",
     "text": [
      "(array([3], dtype=int64),)\n",
      "(array([1, 3, 5, 7], dtype=int64),)\n",
      "(array([0, 2, 4, 6], dtype=int64),)\n"
     ]
    }
   ],
   "source": [
    "arr = np.array([1, 2, 3, 4, 5, 6, 7, 8])\n",
    "\n",
    "x = x = np.where(arr == 4)                     #Searching for index with given value in array. (In case of multiple indexes, it will give more elements in output)\n",
    "y = np.where(arr%2 == 0)                       #Find the indexes where the values are even\n",
    "z = np.where(arr%2 == 1)                       #Find the indexes where the values are odd\n",
    "\n",
    "print(x)\n",
    "print(y)\n",
    "print(z)"
   ]
  },
  {
   "cell_type": "code",
   "execution_count": 53,
   "metadata": {},
   "outputs": [
    {
     "name": "stdout",
     "output_type": "stream",
     "text": [
      "1\n",
      "2\n",
      "[0 2 4]\n"
     ]
    }
   ],
   "source": [
    "arr = np.array([6, 7, 8, 9])\n",
    "\n",
    "x = np.searchsorted(arr, 7)                     #searchsorted() performs a binary search in the array, and returns the index where the specified value would be inserted to maintain the search order\n",
    "y = np.searchsorted(arr, 7, side='right')       #By default the left most index is returned, but we can give side='right' to return the right most index instead.\n",
    "z = np.searchsorted(arr, [2, 8, 10])             # for multiple values\n",
    "print(x)\n",
    "print(y)\n",
    "print(z)"
   ]
  },
  {
   "cell_type": "code",
   "execution_count": 55,
   "metadata": {},
   "outputs": [
    {
     "name": "stdout",
     "output_type": "stream",
     "text": [
      "[0 1 2 3]\n",
      "[False  True  True]\n"
     ]
    }
   ],
   "source": [
    "#This method returns a copy of the array, leaving the original array unchanged.\n",
    "arr = np.array([3, 2, 0, 1])                      #Sorting array , We can sort string, boolean type elements also.\n",
    "arr1 = np.array([True, False, True])\n",
    "\n",
    "print(np.sort(arr))\n",
    "print(np.sort(arr1))"
   ]
  },
  {
   "cell_type": "code",
   "execution_count": 3,
   "metadata": {},
   "outputs": [
    {
     "name": "stdout",
     "output_type": "stream",
     "text": [
      "[41 43]\n"
     ]
    }
   ],
   "source": [
    "arr = np.array([41, 42, 43, 44])                      #Filtering array : Getting some elements out of an existing array and creating a new array out of them is called filtering.\n",
    "\n",
    "x = [True, False, True, False]                        # In Numpy, we can filter an array using a boolean index list.\n",
    "\n",
    "newarr = arr[x]\n",
    "\n",
    "print(newarr)"
   ]
  },
  {
   "cell_type": "code",
   "execution_count": 4,
   "metadata": {},
   "outputs": [
    {
     "name": "stdout",
     "output_type": "stream",
     "text": [
      "[False False  True  True]\n",
      "[43 44]\n"
     ]
    }
   ],
   "source": [
    "arr = np.array([41, 42, 43, 44])                        # In numpy, we can directly filter with condition.\n",
    "\n",
    "filter_arr = arr > 42                                   # Filter elements from array which are greater than 42\n",
    "\n",
    "newarr = arr[filter_arr]\n",
    "\n",
    "print(filter_arr)\n",
    "print(newarr)"
   ]
  },
  {
   "cell_type": "code",
   "execution_count": 5,
   "metadata": {},
   "outputs": [
    {
     "name": "stdout",
     "output_type": "stream",
     "text": [
      "[False  True False  True False  True False]\n",
      "[2 4 6]\n"
     ]
    }
   ],
   "source": [
    "arr = np.array([1, 2, 3, 4, 5, 6, 7])\n",
    "\n",
    "filter_arr = arr % 2 == 0                                 #Filter even elements from array \n",
    "\n",
    "newarr = arr[filter_arr]\n",
    "\n",
    "print(filter_arr)\n",
    "print(newarr)"
   ]
  },
  {
   "cell_type": "code",
   "execution_count": 13,
   "metadata": {
    "scrolled": true
   },
   "outputs": [
    {
     "name": "stdout",
     "output_type": "stream",
     "text": [
      "x =  78\n",
      "y =  0.8476652219394163\n",
      "z =  [40 86 15 22 67]\n",
      "m =  [[78 84 29  8  7]\n",
      " [28 18 35 33 81]\n",
      " [47 19 49 20 65]]\n",
      "n =  [0.27852394 0.52154524 0.83809798 0.49457298 0.65416513]\n",
      "o =  [[0.62679925 0.71936422 0.45659131 0.25123365 0.90968833]\n",
      " [0.54614411 0.15515547 0.14142419 0.03304421 0.924855  ]\n",
      " [0.81441738 0.54328933 0.59769266 0.51645533 0.75058163]]\n",
      "p =  5\n",
      "q =  [[3 7 7 3 7]\n",
      " [3 9 5 9 9]\n",
      " [3 5 7 9 3]]\n",
      "r =  [3 7 3 5 3 5 7 7 3 7 5 5 7 3 7 7 7 7 7 7 5 5 5 7 7 7 7 5 3 7 5 5 7 5 7 3 5\n",
      " 7 5 7 3 7 7 5 5 7 7 7 5 7 7 7 7 3 5 7 5 7 7 7 7 7 5 7 7 7 5 5 7 7 7 7 5 7\n",
      " 7 5 7 7 5 7 7 7 5 5 7 7 7 7 7 7 3 7 5 7 3 7 7 7 7 5]\n",
      "s =  [[7 7 5 5 5]\n",
      " [5 7 7 5 7]\n",
      " [7 7 3 5 7]]\n"
     ]
    }
   ],
   "source": [
    "from numpy import random                                   # import random package\n",
    "\n",
    "x = random.randint(100)                                    #Generate a random integer from 0 to 100\n",
    "y = random.rand()                                          #The random module's rand() method returns a random float between 0 and 1\n",
    "z = random.randint(100, size=(5))                          #Generate a 1-D array containing 5 random integers from 0 to 100\n",
    "m = random.randint(100, size=(3, 5))                       #Generate a 2-D array with 3 rows, each row containing 5 random integers from 0 to 100\n",
    "n = random.rand(5)                                         #Generate a 1-D array containing 5 random floats\n",
    "o = random.rand(3, 5)                                      #Generate a 2-D array with 3 rows, each row containing 5 random numbers\n",
    "p = random.choice([3, 5, 7, 9])                            #Return one of the values in an array\n",
    "                                                           #The choice() method takes an array as a parameter and randomly returns one of the values.\n",
    "q = random.choice([3, 5, 7, 9], size=(3, 5))               #We can add a size parameter to specify the shape of the array\n",
    "r = random.choice([3, 5, 7, 9], p=[0.1, 0.3, 0.6, 0.0], size=(100))           #We can add probabilities for elements also\n",
    "                                                           #The sum of all probability numbers should be 1.\n",
    "s = random.choice([3, 5, 7, 9], p=[0.1, 0.3, 0.6, 0.0], size=(3, 5))       \n",
    "print(\"x = \", x)\n",
    "print(\"y = \", y)\n",
    "print(\"z = \", z)\n",
    "print(\"m = \", m)\n",
    "print(\"n = \", n)\n",
    "print(\"o = \", o)\n",
    "print(\"p = \", p)\n",
    "print(\"q = \", q)\n",
    "print(\"r = \", r)\n",
    "print(\"s = \", s )"
   ]
  },
  {
   "cell_type": "markdown",
   "metadata": {},
   "source": [
    "1. Shuffle() : Shuffle means changing arrangement of elements in-place. i.e. in the array itself. It makes changes to the original array.\n",
    "2. Permutation() : Returns a re-arranged array (and leaves the original array un-changed).\n",
    "3. random.normal() : Returns a Normal Data Distribution. Consist of three parameters - loc ((Mean) where the peak of the bell exists), scale ((Standard Deviation) how flat the graph distribution should be), size (The shape of the returned array)\n",
    "4. random.binomial() : Binomial Distribution is a Discrete Distribution. It has three parameters:n (number of trials), p(probability of occurence of each trial (e.g. for toss of a coin 0.5 each)), size (The shape of the returned array)\n",
    "5. random.poisson() : Poisson Distribution is a Discrete Distribution. It has two parameters: lam (rate or known number of occurences e.g. 2 for above problem) , size (The shape of the returned array).\n",
    "6. random.uniform() : Used to describe probability where every event has equal chances of occuring.It has three parameters: a(lower bound - default 0 .0), b(upper bound - default 1.0), size(The shape of the returned array)\n",
    "7. random.logistics() : Logistic Distribution is used to describe growth. Used extensively in machine learning in logistic regression, neural networks etc.It has three parameters: loc(mean, where the peak is. Default 0), scale(standard deviation, the flatness of distribution. Default 1), size(The shape of the returned array)\n",
    "8. random.multinomial() : Multinomial distribution is a generalization of binomial distribution. It describes outcomes of multi-nomial scenarios unlike binomial where scenarios must be only one of two. e.g. Blood type of a population, dice roll outcome. It has three parameters: n(number of possible outcomes (e.g. 6 for dice roll)), pvals(list of probabilties of outcomes (e.g. [1/6, 1/6, 1/6, 1/6, 1/6, 1/6] for dice roll)), size(The shape of the returned array). \n",
    "9. random.exponential : Exponential distribution is used for describing time till next event e.g. failure/success etc. It has two parameters: scale(inverse of rate ( see lam in poisson distribution ) defaults to 1.0), size (The shape of the returned array) \n",
    "10. random.chisquare() : Chi Square distribution is used as a basis to verify the hypothesis. It has two parameters: df((degree of freedom)), size(The shape of the returned array)\n",
    "11. random.rayleigh() : Rayleigh distribution is used in signal processing. It has two parameters: scale((standard deviation) decides how flat the distribution will be default 1.0)), size (The shape of the returned array).\n",
    "12. random.pareto() : A distribution following Pareto's law i.e. 80-20 distribution (20% factors cause 80% outcome). It has two parameter: a(shape parameter), size(The shape of the returned array). \n",
    "13. random.zipf() : Zipf distritutions are used to sample data based on zipf's law. It has two parameters: a(distribution parameter), size(The shape of the returned array)."
   ]
  },
  {
   "cell_type": "markdown",
   "metadata": {},
   "source": [
    "#### Poisson distribution deals with number of occurences of an event in a time period whereas exponential distribution deals with the time between these events.\n",
    "\n",
    "#### Zipf's Law: In a collection the nth common term is 1/n times of the most common term. E.g. 5th common word in english has occurs nearly 1/5th times as of the most used word."
   ]
  },
  {
   "cell_type": "code",
   "execution_count": 19,
   "metadata": {},
   "outputs": [
    {
     "name": "stdout",
     "output_type": "stream",
     "text": [
      "[2 1 3 5 4]\n",
      "[5 2 3 4 1]\n"
     ]
    }
   ],
   "source": [
    "arr = np.array([1, 2, 3, 4, 5])\n",
    "\n",
    "random.shuffle(arr)                                              # Shuffle\n",
    "\n",
    "print(arr)\n",
    "print(random.permutation(arr))                                   # Permutation"
   ]
  },
  {
   "cell_type": "code",
   "execution_count": 20,
   "metadata": {
    "scrolled": true
   },
   "outputs": [
    {
     "name": "stdout",
     "output_type": "stream",
     "text": [
      "x =  [[1.40305074 3.7468743  1.01188728]\n",
      " [0.22946951 1.09637549 3.73896379]]\n",
      "y =  [4 7 5 7 6 4 5 4 2 4]\n",
      "z =  [2 1 2 2 0 2 0 0 2 2]\n",
      "m =  [[0.56253528 0.12614142 0.74146625]\n",
      " [0.30591257 0.18480722 0.48467748]]\n",
      "n =  [[-2.84703022 -0.42405385 -0.08716447]\n",
      " [ 1.57427073  1.87786235  1.97338181]]\n",
      "o =  [0 0 2 1 1 2]\n",
      "p =  [[1.45739252 5.86563433 3.04854419]\n",
      " [1.36681672 1.2047432  4.53308453]]\n",
      "q =  [[ 1.21374849  5.76640821  1.64567574]\n",
      " [ 1.88339761 10.26455214  5.2288108 ]]\n",
      "r =  [[2.71630326 2.75770494 0.95448305]\n",
      " [1.60844335 2.35658267 2.18734566]]\n",
      "s =  [[0.2776108  0.04901473 0.04319761]\n",
      " [0.22240693 0.0409616  0.27241901]]\n",
      "t =  [[ 1  9  1]\n",
      " [19  1  1]]\n"
     ]
    }
   ],
   "source": [
    "x = random.normal(loc=1, scale=2, size=(2, 3))                   # Normal Distribution: Generate a random normal distribution of size 2x3 with mean at 1 and standard deviation of 2\n",
    "y = random.binomial(n=10, p=0.5, size=10)                        # Binomial Distribution: Given 10 trials for coin toss generate 10 data points\n",
    "z = random.poisson(lam=2, size=10)                               # Poisson Distribution: Generate a random 1x10 distribution for occurence 2.\n",
    "m = random.uniform(size=(2, 3))                                  # Uniform Distribution: Create a 2x3 uniform distribution sample\n",
    "n = random.logistic(loc=1, scale=2, size=(2, 3))                 # Logistic Distribution: Draw 2x3 samples from a logistic distribution with mean at 1 and stddev 2.0\n",
    "o = random.multinomial(n=6, pvals=[1/6, 1/6, 1/6, 1/6, 1/6, 1/6])   # Multinomial Distribution: Draw out a sample for dice roll. \n",
    "                                                                  # Multinomial samples will NOT produce a single value! They will produce one value for each pval.\n",
    "p = random.exponential(scale=2, size=(2, 3))                      # Draw out a sample for exponential distribution with 2.0 scale with 2x3 size\n",
    "q = random.chisquare(df=2, size=(2, 3))                           # Draw out a sample for chi squared distribution with degree of freedom 2 with size 2x3\n",
    "r = random.rayleigh(scale=2, size=(2, 3))                         # Draw out a sample for rayleigh distribution with scale of 2 with size 2x3\n",
    "s = random.pareto(a=2, size=(2, 3))                               # Draw out a sample for pareto distribution with shape of 2 with size 2x3\n",
    "t = random.zipf(a=2, size=(2, 3))                                 # Draw out a sample for zipf distribution with distribution parameter 2 with size 2x3\n",
    "\n",
    "\n",
    "print(\"x = \", x)\n",
    "print(\"y = \", y)\n",
    "print(\"z = \", z)\n",
    "print(\"m = \", m)\n",
    "print(\"n = \", n)\n",
    "print(\"o = \", o)\n",
    "print(\"p = \", p)\n",
    "print(\"q = \", q)\n",
    "print(\"r = \", r)\n",
    "print(\"s = \", s )\n",
    "print(\"t = \", t)"
   ]
  },
  {
   "cell_type": "markdown",
   "metadata": {},
   "source": [
    "1. Ufuncs : stands for \"Universal Functions\". They operates on the ndarray object. \n",
    "2. ufuncs are used to implement vectorization in NumPy which is way faster than iterating over elements. They also provide broadcasting and additional methods like reduce, accumulate etc. that are very helpful for computation. ufuncs also take additional arguments, like: \"where\" (boolean array or condition defining where the operations should take place), \"dtype\"(defining the return type of elements), \"out\" (output array where the return value should be copied)\n",
    "3. Vectorization : Converting iterative statements into a vector based operation is called vectorization."
   ]
  },
  {
   "cell_type": "code",
   "execution_count": 4,
   "metadata": {},
   "outputs": [
    {
     "name": "stdout",
     "output_type": "stream",
     "text": [
      "z =  [5, 7, 9, 11]\n",
      "m =  [ 5  7  9 11]\n"
     ]
    }
   ],
   "source": [
    "#ADDING ELEMENTS OF TO LISTS \n",
    "\n",
    "x = [1, 2, 3, 4]\n",
    "y = [4, 5, 6, 7]\n",
    "z = []\n",
    "                                             # Add the Elements of Two Lists. One way of doing it is to iterate over both of the lists and then sum each elements.\n",
    "for i, j in zip(x, y):                       # Without ufunc, we can use Python's built-in zip() method\n",
    "    z.append(i + j)\n",
    "print(\"z = \" , z)\n",
    "\n",
    "m = np.add(x, y)                              # With ufunc, we can use the add() function \n",
    "print(\"m = \", m)"
   ]
  },
  {
   "cell_type": "code",
   "execution_count": 5,
   "metadata": {},
   "outputs": [
    {
     "name": "stdout",
     "output_type": "stream",
     "text": [
      "[6 8 10 12]\n"
     ]
    }
   ],
   "source": [
    "#CREATING YOUR OWN UFUNC\n",
    "#To create you own ufunc, you have to define a function, like you do with normal functions in Python, then you add it to your NumPy ufunc library with the frompyfunc() method.\n",
    "#The frompyfunc() method takes the following arguments: function - the name of the function, inputs - the number of input arguments (arrays), outputs - the number of output arrays.\n",
    "\n",
    "\n",
    "def myadd(x, y):\n",
    "  return x+y\n",
    "                                             \n",
    "myadd = np.frompyfunc(myadd, 2, 1)\n",
    "\n",
    "print(myadd([1, 2, 3, 4], [5, 6, 7, 8]))"
   ]
  },
  {
   "cell_type": "code",
   "execution_count": 7,
   "metadata": {},
   "outputs": [
    {
     "name": "stdout",
     "output_type": "stream",
     "text": [
      "<class 'numpy.ufunc'>\n",
      "<class 'builtin_function_or_method'>\n"
     ]
    }
   ],
   "source": [
    "#Check the type of a function to check if it is a ufunc or not. A ufunc should return <class 'numpy.ufunc'>.\n",
    "\n",
    "print(type(np.add))                                             #ufunc\n",
    "print(type(np.concatenate))                                     #built-in func"
   ]
  },
  {
   "cell_type": "code",
   "execution_count": 9,
   "metadata": {},
   "outputs": [
    {
     "name": "stdout",
     "output_type": "stream",
     "text": [
      "newarr =  [30 32 34 36 38 40]\n",
      "newarr1 =  [-10 -10 -10 -10 -10 -10]\n",
      "newarr2 =  [200 231 264 299 336 375]\n",
      "newarr3 =  [0.5        0.52380952 0.54545455 0.56521739 0.58333333 0.6       ]\n",
      "newarr4 =  [ 1661992960   602408795           0  1487897765  1090519040 -1144744561]\n",
      "newarr5 =  [10 11 12 13 14 15]\n",
      "newarr6 =  [10 11 12 13 14 15]\n",
      "newarr7 =  (array([0, 0, 0, 0, 0, 0], dtype=int32), array([10, 11, 12, 13, 14, 15], dtype=int32))\n",
      "newarr8 =  [10 10 10 10 10 10]\n"
     ]
    }
   ],
   "source": [
    "#Simple Arithmetic ufunc\n",
    "\n",
    "arr1 = np.array([10, 11, 12, 13, 14, 15])\n",
    "arr2 = np.array([20, 21, 22, 23, 24, 25])\n",
    "\n",
    "newarr = np.add(arr1, arr2)\n",
    "newarr1 = np.subtract(arr1, arr2)\n",
    "newarr2 = np.multiply(arr1, arr2)\n",
    "newarr3 = np.divide(arr1, arr2)\n",
    "newarr4 = np.power(arr1, arr2)\n",
    "newarr5 = np.mod(arr1, arr2)\n",
    "newarr6 = np.remainder(arr1, arr2)\n",
    "newarr7 = np.divmod(arr1, arr2)                           # return both the quotient and the the mod\n",
    "newarr8 = np.absolute(newarr1)\n",
    "\n",
    "\n",
    "print(\"newarr = \" ,newarr)\n",
    "print(\"newarr1 = \" ,newarr1)\n",
    "print(\"newarr2 = \",newarr2)\n",
    "print(\"newarr3 = \", newarr3)\n",
    "print(\"newarr4 = \", newarr4)\n",
    "print(\"newarr5 = \", newarr5) \n",
    "print(\"newarr6 = \", newarr6)\n",
    "print(\"newarr7 = \", newarr7)\n",
    "print(\"newarr8 = \", newarr8)"
   ]
  },
  {
   "cell_type": "code",
   "execution_count": 10,
   "metadata": {},
   "outputs": [
    {
     "name": "stdout",
     "output_type": "stream",
     "text": [
      "arr =  [-3.  3.]\n",
      "arr1 =  [-3.  3.]\n",
      "arr2 =  3.17\n",
      "arr3 =  [-4.  3.]\n",
      "arr4 =  [-3.  4.]\n"
     ]
    }
   ],
   "source": [
    "#ROUNDING DECIMALS\n",
    "\n",
    "arr = np.trunc([-3.1666, 3.6667])                         #Remove the decimals, and return the float number closest to zero.\n",
    "arr1 = np.fix([-3.1666, 3.6667])                          #same as truncate. Remove the decimals, and return the float number closest to zero.\n",
    "arr2 = np.around(3.1666, 2)                               #The around() function increments preceding digit or decimal by 1 if >=5 else do nothing.\n",
    "arr3 = np.floor([-3.1666, 3.6667])                        #The floor() function rounds off decimal to nearest lower integer.\n",
    "arr4 = np.ceil([-3.1666, 3.6667])                         #The ceil() function rounds off decimal to nearest upper integer.\n",
    "\n",
    "print(\"arr = \" , arr)\n",
    "print(\"arr1 = \" , arr1)\n",
    "print(\"arr2 = \" , arr2)\n",
    "print(\"arr3 = \" , arr3)\n",
    "print(\"arr4 = \" , arr4)\n"
   ]
  },
  {
   "cell_type": "code",
   "execution_count": 11,
   "metadata": {},
   "outputs": [
    {
     "name": "stdout",
     "output_type": "stream",
     "text": [
      "[0.         1.         1.5849625  2.         2.32192809 2.5849625\n",
      " 2.80735492 3.         3.169925  ]\n",
      "[0.         0.30103    0.47712125 0.60205999 0.69897    0.77815125\n",
      " 0.84509804 0.90308999 0.95424251]\n",
      "[0.         0.69314718 1.09861229 1.38629436 1.60943791 1.79175947\n",
      " 1.94591015 2.07944154 2.19722458]\n"
     ]
    }
   ],
   "source": [
    "#LOGRITHMIC FUNCTIONS\n",
    "\n",
    "arr = np.arange(1, 10)                                   # The arange(1, 10) function returns an array with integers starting from 1 (included) to 10 (not included).\n",
    "\n",
    "print(np.log2(arr))                                      # log at the base 2\n",
    "print(np.log10(arr))                                     # log at the base 10\n",
    "print(np.log(arr))                                       # log at the base e\n"
   ]
  },
  {
   "cell_type": "code",
   "execution_count": 12,
   "metadata": {},
   "outputs": [
    {
     "name": "stdout",
     "output_type": "stream",
     "text": [
      "1.7005483074552052\n"
     ]
    }
   ],
   "source": [
    "# LOG AT ANY BASE \n",
    "\n",
    "from math import log                                      #import log package from math library\n",
    "import numpy as np\n",
    "\n",
    "nplog = np.frompyfunc(log, 2, 1)                          # create function for log.\n",
    "\n",
    "print(nplog(100, 15))                                     # call function"
   ]
  },
  {
   "cell_type": "code",
   "execution_count": 14,
   "metadata": {},
   "outputs": [
    {
     "name": "stdout",
     "output_type": "stream",
     "text": [
      "newarr =  [2 4 6]\n",
      "newarr1 =  [6 6]\n",
      "newarr2 =  [1 3 6]\n",
      "newarr3 =  362880\n",
      "newarr4 =  36\n",
      "newarr5 =  [6 6]\n",
      "newarr6 =  [1 2 6]\n"
     ]
    }
   ],
   "source": [
    "# SUMMATION, PRODUCTS, DIFFERENCES\n",
    "# Addition is done between two arguments whereas summation happens over n elements.\n",
    "# If you specify axis=1, NumPy will return the summation/ product of each array.\n",
    "arr1 = np.array([1, 2, 3])\n",
    "arr2 = np.array([1, 2, 3])\n",
    "  \n",
    "newarr = np.add(arr1, arr2)                                 # addition of elements of both arrays index by index.\n",
    "newarr1 = np.sum([arr1, arr2], axis=1)                      # summation of elements of both arrays over 1st axis.\n",
    "newarr2 = np.cumsum(arr1)                                   # Cummulation sum of an array.\n",
    "\n",
    "newarr3 = np.prod(arr)                                      # product of the elements in an array.\n",
    "newarr4 = np.prod([arr1, arr2])                             # product of the elements of two arrays.\n",
    "newarr5 = np.prod([arr1, arr2], axis=1)                     # product of elements of both arrays over 1st axis.\n",
    "newarr6 = np.cumprod(arr1)                                  # Cummulative product of an array\n",
    "\n",
    "\n",
    "\n",
    "print(\"newarr = \" , newarr)\n",
    "print(\"newarr1 = \" , newarr1)\n",
    "print(\"newarr2 = \" , newarr2)\n",
    "print(\"newarr3 = \" , newarr3)\n",
    "print(\"newarr4 = \" , newarr4)\n",
    "print(\"newarr5 = \" , newarr5)\n",
    "print(\"newarr6 = \" , newarr6)"
   ]
  },
  {
   "cell_type": "code",
   "execution_count": 3,
   "metadata": {},
   "outputs": [
    {
     "name": "stdout",
     "output_type": "stream",
     "text": [
      "[  5  10 -20]\n",
      "[  5 -30]\n"
     ]
    }
   ],
   "source": [
    "# DISCRETE DIFFERENCE \n",
    "# A discrete difference means subtracting two successive elements.\n",
    "\n",
    "arr = np.array([10, 15, 25, 5])\n",
    "\n",
    "newarr = np.diff(arr)                                         # discrete difference of an array\n",
    "newarr1 = np.diff(arr, n=2)                                   # Compute discrete difference of an array twice\n",
    "\n",
    "print(newarr)\n",
    "print(newarr1)"
   ]
  },
  {
   "cell_type": "code",
   "execution_count": 4,
   "metadata": {},
   "outputs": [
    {
     "name": "stdout",
     "output_type": "stream",
     "text": [
      "12\n",
      "2\n"
     ]
    }
   ],
   "source": [
    "# LCM and GCD of numbers\n",
    "\n",
    "num1 = 4\n",
    "num2 = 6\n",
    "\n",
    "x = np.lcm(num1, num2)\n",
    "y = np.gcd(num1, num2)\n",
    "\n",
    "print(x)\n",
    "print(y)"
   ]
  },
  {
   "cell_type": "code",
   "execution_count": 5,
   "metadata": {},
   "outputs": [
    {
     "name": "stdout",
     "output_type": "stream",
     "text": [
      "18\n",
      "3\n",
      "2520\n"
     ]
    }
   ],
   "source": [
    "# LCM and GCD of arrays\n",
    "# The reduce() method will use the ufunc, on each element, and reduce the array by one dimension.\n",
    "\n",
    "arr = np.array([3, 6, 9])                                  #LCM of given array  \n",
    "\n",
    "x = np.lcm.reduce(arr)\n",
    "m = np.gcd.reduce(arr)                                     #GCD of given array\n",
    "\n",
    "print(x)\n",
    "print(m)\n",
    "\n",
    "\n",
    "arr = np.arange(1, 11)                                     #LCM of all of an array where the array contains all integers from 1 to 10\n",
    "\n",
    "y = np.lcm.reduce(arr) \n",
    "\n",
    "print(y)"
   ]
  },
  {
   "cell_type": "code",
   "execution_count": 8,
   "metadata": {},
   "outputs": [
    {
     "name": "stdout",
     "output_type": "stream",
     "text": [
      "1.0\n",
      "[1.         0.8660254  0.70710678 0.58778525]\n",
      "[1.57079633 3.14159265 4.71238898 6.28318531]\n",
      "[ 90. 180. 270. 360.]\n",
      "1.5707963267948966\n",
      "[ 1.57079633 -1.57079633  0.10016742]\n",
      "5.0\n"
     ]
    }
   ],
   "source": [
    "#TRIGNOMETRIC FUNCTIONS\n",
    "\n",
    "m = np.sin(np.pi/2)                                             # sine value of PI/2\n",
    "print(m)\n",
    "\n",
    "arr = np.array([np.pi/2, np.pi/3, np.pi/4, np.pi/5])            # sine values for all of the values in arr   \n",
    "n = np.sin(arr)\n",
    "print(n)\n",
    "\n",
    "arr = np.array([90, 180, 270, 360])                             # Convert all of the values in following array arr to radians\n",
    "n = np.deg2rad(arr)\n",
    "print(n)\n",
    "\n",
    "arr = np.array([np.pi/2, np.pi, 1.5*np.pi, 2*np.pi])            # Convert all of the values in following array arr to degrees\n",
    "o = np.rad2deg(arr)\n",
    "print(o)\n",
    "\n",
    "# NumPy provides ufuncs arcsin(), arccos() and arctan() that produce radian values for corresponding sin, cos and tan values given\n",
    "p = np.arcsin(1.0)\n",
    "print(p)\n",
    "\n",
    "arr = np.array([1, -1, 0.1])                                     # angle for all of the sine values in the array\n",
    "q = np.arcsin(arr)\n",
    "print(q)\n",
    "\n",
    "#FNDING HYPOTENOUS.\n",
    "base = 3\n",
    "perp = 4\n",
    "h = np.hypot(base, perp)\n",
    "print(h)\n"
   ]
  },
  {
   "cell_type": "code",
   "execution_count": 9,
   "metadata": {},
   "outputs": [
    {
     "name": "stdout",
     "output_type": "stream",
     "text": [
      "2.3012989023072947\n",
      "[2.50917848 1.60028686 1.32460909 1.20397209]\n",
      "0.881373587019543\n",
      "[0.10033535 0.20273255 0.54930614]\n"
     ]
    }
   ],
   "source": [
    "#HYPERBOLIC FUNCTIONS\n",
    "\n",
    "m = np.sinh(np.pi/2)                                               # sinh value of PI/2\n",
    "print(m)\n",
    "\n",
    "arr = np.array([np.pi/2, np.pi/3, np.pi/4, np.pi/5])               # cosh values for all of the values in arr\n",
    "n = np.cosh(arr)\n",
    "print(n)\n",
    "\n",
    "#Numpy provides ufuncs arcsinh(), arccosh() and arctanh() that produce radian values for corresponding sinh, cosh and tanh values given.\n",
    "o = np.arcsinh(1.0)                                                # Find the angle of 1.0\n",
    "print(o)\n",
    "\n",
    "arr = np.array([0.1, 0.2, 0.5])                                    # Find the angle for all of the tanh values in array\n",
    "p= np.arctanh(arr)\n",
    "print(p)"
   ]
  },
  {
   "cell_type": "code",
   "execution_count": 12,
   "metadata": {
    "scrolled": true
   },
   "outputs": [
    {
     "name": "stdout",
     "output_type": "stream",
     "text": [
      "[1 2 3 4 5 6 7]\n",
      "[1 2 3 4 5 6]\n",
      "[3 4]\n",
      "[1 2]\n",
      "[1 2 5 6]\n"
     ]
    }
   ],
   "source": [
    "# SET OPERATIONS\n",
    "# Sets are used for operations involving frequent intersection, union and difference operations.\n",
    "\n",
    "arr = np.array([1, 1, 1, 2, 3, 4, 5, 5, 6, 7])                      # Convert an array with repeated elements to a set. /Give Unique elements\n",
    "m = np.unique(arr)\n",
    "print(m)\n",
    "\n",
    "arr1 = np.array([1, 2, 3, 4])                                       \n",
    "arr2 = np.array([3, 4, 5, 6])\n",
    "newarr = np.union1d(arr1, arr2)                                     # union of the given two set arrays\n",
    "newarr1 = np.intersect1d(arr1, arr2, assume_unique=True)            # intersection of given two set arrays\n",
    "# the intersect1d(), setdiff1d(), setxor1d() method takes an optional argument assume_unique, which if set to True can speed up computation. It should always be set to True when dealing with sets.\n",
    "set1 = np.array([1, 2, 3, 4])\n",
    "set2 = np.array([3, 4, 5, 6])\n",
    "newarr2 = np.setdiff1d(set1, set2, assume_unique=True)              # difference of the set1 from set2\n",
    "newarr3 = np.setxor1d(set1, set2, assume_unique=True)               # symmetric difference of the set1 and set2 (the values that are NOT present in BOTH sets)\n",
    "\n",
    "print(newarr)\n",
    "print(newarr1)\n",
    "print(newarr2)\n",
    "print(newarr3)\n"
   ]
  },
  {
   "cell_type": "code",
   "execution_count": null,
   "metadata": {},
   "outputs": [],
   "source": []
  }
 ],
 "metadata": {
  "kernelspec": {
   "display_name": "Python 3",
   "language": "python",
   "name": "python3"
  },
  "language_info": {
   "codemirror_mode": {
    "name": "ipython",
    "version": 3
   },
   "file_extension": ".py",
   "mimetype": "text/x-python",
   "name": "python",
   "nbconvert_exporter": "python",
   "pygments_lexer": "ipython3",
   "version": "3.6.9"
  }
 },
 "nbformat": 4,
 "nbformat_minor": 2
}
